{
 "cells": [
  {
   "cell_type": "code",
   "execution_count": null,
   "metadata": {},
   "outputs": [],
   "source": [
    "'''\n",
    "========================================\n",
    "Nama: Ignatius Kurniawan Eko Wibowo\n",
    "Batch: RMT 032\n",
    "\n",
    "Program ini dibuat dengan bertujuan membantu proses\n",
    "analisa data vaksin Covid-19\n",
    "========================================\n",
    "'''"
   ]
  },
  {
   "cell_type": "markdown",
   "metadata": {},
   "source": [
    "Referensi Data: https://www.kaggle.com/datasets/gpreda/covid-world-vaccination-progress"
   ]
  },
  {
   "cell_type": "markdown",
   "metadata": {},
   "source": [
    "Tableau Public URL: https://public.tableau.com/app/profile/ignatius.kurniawan.eko.wibowo/viz/AseanCovidVaccination/Dashboard1?publish=yes"
   ]
  },
  {
   "cell_type": "markdown",
   "metadata": {},
   "source": [
    "Sebagai seorang data analyst yang bekerja di WHO, saya mendapatkan tugas untuk menganalisa data vaksin Covid-19 di 10 negara Asean dalam kurun waktu 2021-2022. Untuk dapat menjalankan tugas dengan lebih mudah, saya memutuskan untuk menggunakan SMART framework untuk mengidentifikasi adanya masalah dalam penyebaran vaksin Covid-19 tersebut"
   ]
  },
  {
   "cell_type": "markdown",
   "metadata": {},
   "source": [
    "# SMART Framework"
   ]
  },
  {
   "cell_type": "markdown",
   "metadata": {},
   "source": [
    "**Specific**\n",
    "<br>\n",
    "Menganalisa apakah rata-rata penduduk negara Asean sudah mendapatkan vaksinasi Covid-19\n",
    "\n",
    "**Measurable**\n",
    "<br>\n",
    "Ada peningkatan setidaknya 50% dari total orang yang sudah mendapatkan vaksinasi Covid-19 terhitung dari awal tahun 2020\n",
    "\n",
    "**Achievable**\n",
    "<br>\n",
    "By the end of 2022 diharapkan total orang di negara Asean yang sudah vaksin Covid-19 ada di angka 90% dari total populasi\n",
    "\n",
    "**Relevant**\n",
    "<br>\n",
    "Pemerataan pemberian vaksin Covid-19 bagi orang-orang di negara Asean diharapkan dapat menurunkan jumlah kematian yang disebabkan oleh Covid-19\n",
    "\n",
    "**Time-bound**\n",
    "<br>\n",
    "Goal ini dirancang untuk dapat dipenuhi dalam jangka waktu 2 tahun, yakni dari 2020 sampai 2022"
   ]
  },
  {
   "cell_type": "markdown",
   "metadata": {},
   "source": [
    "Penjabaran masalah menggunakan 5W+1H\n",
    "\n",
    "1. Vaksin apa yang paling banyak digunakan di negara-negara Asean?\n",
    "2. Negara Asean mana yang memberikan vaksin terbanyak per harinya?\n",
    "3. Negara Asean mana yang memiliki vaccination rate tertinggi?\n",
    "4. Bagaimana trend pemberian vaksin di negara-negara Asean? Apakah semakin lama, semakin banyak orang yang mendapatkan vaksin?\n",
    "5. Berapa rata-rata jumlah orang yang sudah divaksin setiap harinya di Asean?\n",
    "6. Apakah ada asosiasi antara jenis vaksin yang diberikan dengan bulan pemberiannya?\n"
   ]
  },
  {
   "cell_type": "code",
   "execution_count": 2,
   "metadata": {},
   "outputs": [],
   "source": [
    "import pandas as pd\n",
    "import seaborn as sns\n",
    "import matplotlib.pyplot as plt\n",
    "from scipy import stats\n",
    "import numpy as np"
   ]
  },
  {
   "cell_type": "code",
   "execution_count": 3,
   "metadata": {},
   "outputs": [],
   "source": [
    "df = pd.read_csv('country_vaccinations.csv')"
   ]
  },
  {
   "cell_type": "code",
   "execution_count": 4,
   "metadata": {},
   "outputs": [
    {
     "data": {
      "text/html": [
       "<div>\n",
       "<style scoped>\n",
       "    .dataframe tbody tr th:only-of-type {\n",
       "        vertical-align: middle;\n",
       "    }\n",
       "\n",
       "    .dataframe tbody tr th {\n",
       "        vertical-align: top;\n",
       "    }\n",
       "\n",
       "    .dataframe thead th {\n",
       "        text-align: right;\n",
       "    }\n",
       "</style>\n",
       "<table border=\"1\" class=\"dataframe\">\n",
       "  <thead>\n",
       "    <tr style=\"text-align: right;\">\n",
       "      <th></th>\n",
       "      <th>country</th>\n",
       "      <th>iso_code</th>\n",
       "      <th>date</th>\n",
       "      <th>total_vaccinations</th>\n",
       "      <th>people_vaccinated</th>\n",
       "      <th>people_fully_vaccinated</th>\n",
       "      <th>daily_vaccinations_raw</th>\n",
       "      <th>daily_vaccinations</th>\n",
       "      <th>total_vaccinations_per_hundred</th>\n",
       "      <th>people_vaccinated_per_hundred</th>\n",
       "      <th>people_fully_vaccinated_per_hundred</th>\n",
       "      <th>daily_vaccinations_per_million</th>\n",
       "      <th>vaccines</th>\n",
       "      <th>source_name</th>\n",
       "      <th>source_website</th>\n",
       "    </tr>\n",
       "  </thead>\n",
       "  <tbody>\n",
       "    <tr>\n",
       "      <th>0</th>\n",
       "      <td>Afghanistan</td>\n",
       "      <td>AFG</td>\n",
       "      <td>2021-02-22</td>\n",
       "      <td>0.0</td>\n",
       "      <td>0.0</td>\n",
       "      <td>NaN</td>\n",
       "      <td>NaN</td>\n",
       "      <td>NaN</td>\n",
       "      <td>0.0</td>\n",
       "      <td>0.0</td>\n",
       "      <td>NaN</td>\n",
       "      <td>NaN</td>\n",
       "      <td>Johnson&amp;Johnson, Oxford/AstraZeneca, Pfizer/Bi...</td>\n",
       "      <td>World Health Organization</td>\n",
       "      <td>https://covid19.who.int/</td>\n",
       "    </tr>\n",
       "    <tr>\n",
       "      <th>1</th>\n",
       "      <td>Afghanistan</td>\n",
       "      <td>AFG</td>\n",
       "      <td>2021-02-23</td>\n",
       "      <td>NaN</td>\n",
       "      <td>NaN</td>\n",
       "      <td>NaN</td>\n",
       "      <td>NaN</td>\n",
       "      <td>1367.0</td>\n",
       "      <td>NaN</td>\n",
       "      <td>NaN</td>\n",
       "      <td>NaN</td>\n",
       "      <td>34.0</td>\n",
       "      <td>Johnson&amp;Johnson, Oxford/AstraZeneca, Pfizer/Bi...</td>\n",
       "      <td>World Health Organization</td>\n",
       "      <td>https://covid19.who.int/</td>\n",
       "    </tr>\n",
       "    <tr>\n",
       "      <th>2</th>\n",
       "      <td>Afghanistan</td>\n",
       "      <td>AFG</td>\n",
       "      <td>2021-02-24</td>\n",
       "      <td>NaN</td>\n",
       "      <td>NaN</td>\n",
       "      <td>NaN</td>\n",
       "      <td>NaN</td>\n",
       "      <td>1367.0</td>\n",
       "      <td>NaN</td>\n",
       "      <td>NaN</td>\n",
       "      <td>NaN</td>\n",
       "      <td>34.0</td>\n",
       "      <td>Johnson&amp;Johnson, Oxford/AstraZeneca, Pfizer/Bi...</td>\n",
       "      <td>World Health Organization</td>\n",
       "      <td>https://covid19.who.int/</td>\n",
       "    </tr>\n",
       "    <tr>\n",
       "      <th>3</th>\n",
       "      <td>Afghanistan</td>\n",
       "      <td>AFG</td>\n",
       "      <td>2021-02-25</td>\n",
       "      <td>NaN</td>\n",
       "      <td>NaN</td>\n",
       "      <td>NaN</td>\n",
       "      <td>NaN</td>\n",
       "      <td>1367.0</td>\n",
       "      <td>NaN</td>\n",
       "      <td>NaN</td>\n",
       "      <td>NaN</td>\n",
       "      <td>34.0</td>\n",
       "      <td>Johnson&amp;Johnson, Oxford/AstraZeneca, Pfizer/Bi...</td>\n",
       "      <td>World Health Organization</td>\n",
       "      <td>https://covid19.who.int/</td>\n",
       "    </tr>\n",
       "    <tr>\n",
       "      <th>4</th>\n",
       "      <td>Afghanistan</td>\n",
       "      <td>AFG</td>\n",
       "      <td>2021-02-26</td>\n",
       "      <td>NaN</td>\n",
       "      <td>NaN</td>\n",
       "      <td>NaN</td>\n",
       "      <td>NaN</td>\n",
       "      <td>1367.0</td>\n",
       "      <td>NaN</td>\n",
       "      <td>NaN</td>\n",
       "      <td>NaN</td>\n",
       "      <td>34.0</td>\n",
       "      <td>Johnson&amp;Johnson, Oxford/AstraZeneca, Pfizer/Bi...</td>\n",
       "      <td>World Health Organization</td>\n",
       "      <td>https://covid19.who.int/</td>\n",
       "    </tr>\n",
       "  </tbody>\n",
       "</table>\n",
       "</div>"
      ],
      "text/plain": [
       "       country iso_code        date  total_vaccinations  people_vaccinated  \\\n",
       "0  Afghanistan      AFG  2021-02-22                 0.0                0.0   \n",
       "1  Afghanistan      AFG  2021-02-23                 NaN                NaN   \n",
       "2  Afghanistan      AFG  2021-02-24                 NaN                NaN   \n",
       "3  Afghanistan      AFG  2021-02-25                 NaN                NaN   \n",
       "4  Afghanistan      AFG  2021-02-26                 NaN                NaN   \n",
       "\n",
       "   people_fully_vaccinated  daily_vaccinations_raw  daily_vaccinations  \\\n",
       "0                      NaN                     NaN                 NaN   \n",
       "1                      NaN                     NaN              1367.0   \n",
       "2                      NaN                     NaN              1367.0   \n",
       "3                      NaN                     NaN              1367.0   \n",
       "4                      NaN                     NaN              1367.0   \n",
       "\n",
       "   total_vaccinations_per_hundred  people_vaccinated_per_hundred  \\\n",
       "0                             0.0                            0.0   \n",
       "1                             NaN                            NaN   \n",
       "2                             NaN                            NaN   \n",
       "3                             NaN                            NaN   \n",
       "4                             NaN                            NaN   \n",
       "\n",
       "   people_fully_vaccinated_per_hundred  daily_vaccinations_per_million  \\\n",
       "0                                  NaN                             NaN   \n",
       "1                                  NaN                            34.0   \n",
       "2                                  NaN                            34.0   \n",
       "3                                  NaN                            34.0   \n",
       "4                                  NaN                            34.0   \n",
       "\n",
       "                                            vaccines  \\\n",
       "0  Johnson&Johnson, Oxford/AstraZeneca, Pfizer/Bi...   \n",
       "1  Johnson&Johnson, Oxford/AstraZeneca, Pfizer/Bi...   \n",
       "2  Johnson&Johnson, Oxford/AstraZeneca, Pfizer/Bi...   \n",
       "3  Johnson&Johnson, Oxford/AstraZeneca, Pfizer/Bi...   \n",
       "4  Johnson&Johnson, Oxford/AstraZeneca, Pfizer/Bi...   \n",
       "\n",
       "                 source_name            source_website  \n",
       "0  World Health Organization  https://covid19.who.int/  \n",
       "1  World Health Organization  https://covid19.who.int/  \n",
       "2  World Health Organization  https://covid19.who.int/  \n",
       "3  World Health Organization  https://covid19.who.int/  \n",
       "4  World Health Organization  https://covid19.who.int/  "
      ]
     },
     "execution_count": 4,
     "metadata": {},
     "output_type": "execute_result"
    }
   ],
   "source": [
    "df.head(5)"
   ]
  },
  {
   "cell_type": "code",
   "execution_count": 5,
   "metadata": {},
   "outputs": [
    {
     "data": {
      "text/plain": [
       "(86512, 15)"
      ]
     },
     "execution_count": 5,
     "metadata": {},
     "output_type": "execute_result"
    }
   ],
   "source": [
    "df.shape"
   ]
  },
  {
   "cell_type": "code",
   "execution_count": 6,
   "metadata": {},
   "outputs": [
    {
     "data": {
      "text/plain": [
       "['country',\n",
       " 'iso_code',\n",
       " 'date',\n",
       " 'total_vaccinations',\n",
       " 'people_vaccinated',\n",
       " 'people_fully_vaccinated',\n",
       " 'daily_vaccinations_raw',\n",
       " 'daily_vaccinations',\n",
       " 'total_vaccinations_per_hundred',\n",
       " 'people_vaccinated_per_hundred',\n",
       " 'people_fully_vaccinated_per_hundred',\n",
       " 'daily_vaccinations_per_million',\n",
       " 'vaccines',\n",
       " 'source_name',\n",
       " 'source_website']"
      ]
     },
     "execution_count": 6,
     "metadata": {},
     "output_type": "execute_result"
    }
   ],
   "source": [
    "df.columns.to_list()"
   ]
  },
  {
   "cell_type": "code",
   "execution_count": 7,
   "metadata": {},
   "outputs": [
    {
     "name": "stdout",
     "output_type": "stream",
     "text": [
      "<class 'pandas.core.frame.DataFrame'>\n",
      "RangeIndex: 86512 entries, 0 to 86511\n",
      "Data columns (total 15 columns):\n",
      " #   Column                               Non-Null Count  Dtype  \n",
      "---  ------                               --------------  -----  \n",
      " 0   country                              86512 non-null  object \n",
      " 1   iso_code                             86512 non-null  object \n",
      " 2   date                                 86512 non-null  object \n",
      " 3   total_vaccinations                   43607 non-null  float64\n",
      " 4   people_vaccinated                    41294 non-null  float64\n",
      " 5   people_fully_vaccinated              38802 non-null  float64\n",
      " 6   daily_vaccinations_raw               35362 non-null  float64\n",
      " 7   daily_vaccinations                   86213 non-null  float64\n",
      " 8   total_vaccinations_per_hundred       43607 non-null  float64\n",
      " 9   people_vaccinated_per_hundred        41294 non-null  float64\n",
      " 10  people_fully_vaccinated_per_hundred  38802 non-null  float64\n",
      " 11  daily_vaccinations_per_million       86213 non-null  float64\n",
      " 12  vaccines                             86512 non-null  object \n",
      " 13  source_name                          86512 non-null  object \n",
      " 14  source_website                       86512 non-null  object \n",
      "dtypes: float64(9), object(6)\n",
      "memory usage: 9.9+ MB\n"
     ]
    }
   ],
   "source": [
    "# Cek apakah dtype sudah sesuai\n",
    "df.info()"
   ]
  },
  {
   "cell_type": "code",
   "execution_count": 8,
   "metadata": {},
   "outputs": [
    {
     "data": {
      "text/plain": [
       "country                                    0\n",
       "iso_code                                   0\n",
       "date                                       0\n",
       "total_vaccinations                     42905\n",
       "people_vaccinated                      45218\n",
       "people_fully_vaccinated                47710\n",
       "daily_vaccinations_raw                 51150\n",
       "daily_vaccinations                       299\n",
       "total_vaccinations_per_hundred         42905\n",
       "people_vaccinated_per_hundred          45218\n",
       "people_fully_vaccinated_per_hundred    47710\n",
       "daily_vaccinations_per_million           299\n",
       "vaccines                                   0\n",
       "source_name                                0\n",
       "source_website                             0\n",
       "dtype: int64"
      ]
     },
     "execution_count": 8,
     "metadata": {},
     "output_type": "execute_result"
    }
   ],
   "source": [
    "# Cek berapa banyak data yang memiliki null value\n",
    "df.isnull().sum()"
   ]
  },
  {
   "cell_type": "code",
   "execution_count": 10,
   "metadata": {},
   "outputs": [],
   "source": [
    "# Filtering negara Asia Tenggara\n",
    "asean = [\n",
    "        'Brunei',\n",
    "        'Cambodia',\n",
    "        'Indonesia',\n",
    "        'Laos',\n",
    "        'Malaysia',\n",
    "        'Myanmar',\n",
    "        'Philippines',\n",
    "        'Singapore',\n",
    "        'Thailand',\n",
    "        'Vietnam'\n",
    "         ]\n",
    "\n",
    "asean_countries = df.loc[(df['country'].isin(asean))]"
   ]
  },
  {
   "cell_type": "code",
   "execution_count": 11,
   "metadata": {},
   "outputs": [
    {
     "data": {
      "text/plain": [
       "(4033, 15)"
      ]
     },
     "execution_count": 11,
     "metadata": {},
     "output_type": "execute_result"
    }
   ],
   "source": [
    "asean_countries.shape"
   ]
  },
  {
   "cell_type": "code",
   "execution_count": 18,
   "metadata": {},
   "outputs": [],
   "source": [
    "asean_countries.to_csv('asean_covid.csv', index=False)"
   ]
  },
  {
   "cell_type": "code",
   "execution_count": 19,
   "metadata": {},
   "outputs": [
    {
     "data": {
      "text/html": [
       "<div>\n",
       "<style scoped>\n",
       "    .dataframe tbody tr th:only-of-type {\n",
       "        vertical-align: middle;\n",
       "    }\n",
       "\n",
       "    .dataframe tbody tr th {\n",
       "        vertical-align: top;\n",
       "    }\n",
       "\n",
       "    .dataframe thead th {\n",
       "        text-align: right;\n",
       "    }\n",
       "</style>\n",
       "<table border=\"1\" class=\"dataframe\">\n",
       "  <thead>\n",
       "    <tr style=\"text-align: right;\">\n",
       "      <th></th>\n",
       "      <th>country</th>\n",
       "      <th>iso_code</th>\n",
       "      <th>date</th>\n",
       "      <th>total_vaccinations</th>\n",
       "      <th>people_vaccinated</th>\n",
       "      <th>people_fully_vaccinated</th>\n",
       "      <th>daily_vaccinations_raw</th>\n",
       "      <th>daily_vaccinations</th>\n",
       "      <th>total_vaccinations_per_hundred</th>\n",
       "      <th>people_vaccinated_per_hundred</th>\n",
       "      <th>people_fully_vaccinated_per_hundred</th>\n",
       "      <th>daily_vaccinations_per_million</th>\n",
       "      <th>vaccines</th>\n",
       "      <th>source_name</th>\n",
       "      <th>source_website</th>\n",
       "      <th>vaccine_names</th>\n",
       "    </tr>\n",
       "  </thead>\n",
       "  <tbody>\n",
       "    <tr>\n",
       "      <th>11395</th>\n",
       "      <td>Brunei</td>\n",
       "      <td>BRN</td>\n",
       "      <td>2021-04-02</td>\n",
       "      <td>0.0</td>\n",
       "      <td>0.0</td>\n",
       "      <td>NaN</td>\n",
       "      <td>NaN</td>\n",
       "      <td>NaN</td>\n",
       "      <td>0.00</td>\n",
       "      <td>0.00</td>\n",
       "      <td>NaN</td>\n",
       "      <td>NaN</td>\n",
       "      <td>Johnson&amp;Johnson, Moderna, Oxford/AstraZeneca, ...</td>\n",
       "      <td>World Health Organization</td>\n",
       "      <td>https://covid19.who.int/</td>\n",
       "      <td>None</td>\n",
       "    </tr>\n",
       "    <tr>\n",
       "      <th>11396</th>\n",
       "      <td>Brunei</td>\n",
       "      <td>BRN</td>\n",
       "      <td>2021-04-03</td>\n",
       "      <td>754.0</td>\n",
       "      <td>754.0</td>\n",
       "      <td>NaN</td>\n",
       "      <td>754.0</td>\n",
       "      <td>754.0</td>\n",
       "      <td>0.17</td>\n",
       "      <td>0.17</td>\n",
       "      <td>NaN</td>\n",
       "      <td>1708.0</td>\n",
       "      <td>Johnson&amp;Johnson, Moderna, Oxford/AstraZeneca, ...</td>\n",
       "      <td>World Health Organization</td>\n",
       "      <td>https://covid19.who.int/</td>\n",
       "      <td>None</td>\n",
       "    </tr>\n",
       "    <tr>\n",
       "      <th>11397</th>\n",
       "      <td>Brunei</td>\n",
       "      <td>BRN</td>\n",
       "      <td>2021-04-04</td>\n",
       "      <td>822.0</td>\n",
       "      <td>822.0</td>\n",
       "      <td>NaN</td>\n",
       "      <td>68.0</td>\n",
       "      <td>411.0</td>\n",
       "      <td>0.19</td>\n",
       "      <td>0.19</td>\n",
       "      <td>NaN</td>\n",
       "      <td>931.0</td>\n",
       "      <td>Johnson&amp;Johnson, Moderna, Oxford/AstraZeneca, ...</td>\n",
       "      <td>World Health Organization</td>\n",
       "      <td>https://covid19.who.int/</td>\n",
       "      <td>None</td>\n",
       "    </tr>\n",
       "    <tr>\n",
       "      <th>11398</th>\n",
       "      <td>Brunei</td>\n",
       "      <td>BRN</td>\n",
       "      <td>2021-04-05</td>\n",
       "      <td>1214.0</td>\n",
       "      <td>1214.0</td>\n",
       "      <td>NaN</td>\n",
       "      <td>392.0</td>\n",
       "      <td>405.0</td>\n",
       "      <td>0.27</td>\n",
       "      <td>0.27</td>\n",
       "      <td>NaN</td>\n",
       "      <td>917.0</td>\n",
       "      <td>Johnson&amp;Johnson, Moderna, Oxford/AstraZeneca, ...</td>\n",
       "      <td>World Health Organization</td>\n",
       "      <td>https://covid19.who.int/</td>\n",
       "      <td>None</td>\n",
       "    </tr>\n",
       "    <tr>\n",
       "      <th>11399</th>\n",
       "      <td>Brunei</td>\n",
       "      <td>BRN</td>\n",
       "      <td>2021-04-06</td>\n",
       "      <td>2560.0</td>\n",
       "      <td>2560.0</td>\n",
       "      <td>NaN</td>\n",
       "      <td>1346.0</td>\n",
       "      <td>640.0</td>\n",
       "      <td>0.58</td>\n",
       "      <td>0.58</td>\n",
       "      <td>NaN</td>\n",
       "      <td>1449.0</td>\n",
       "      <td>Johnson&amp;Johnson, Moderna, Oxford/AstraZeneca, ...</td>\n",
       "      <td>World Health Organization</td>\n",
       "      <td>https://covid19.who.int/</td>\n",
       "      <td>None</td>\n",
       "    </tr>\n",
       "    <tr>\n",
       "      <th>...</th>\n",
       "      <td>...</td>\n",
       "      <td>...</td>\n",
       "      <td>...</td>\n",
       "      <td>...</td>\n",
       "      <td>...</td>\n",
       "      <td>...</td>\n",
       "      <td>...</td>\n",
       "      <td>...</td>\n",
       "      <td>...</td>\n",
       "      <td>...</td>\n",
       "      <td>...</td>\n",
       "      <td>...</td>\n",
       "      <td>...</td>\n",
       "      <td>...</td>\n",
       "      <td>...</td>\n",
       "      <td>...</td>\n",
       "    </tr>\n",
       "    <tr>\n",
       "      <th>6</th>\n",
       "      <td>NaN</td>\n",
       "      <td>NaN</td>\n",
       "      <td>NaN</td>\n",
       "      <td>NaN</td>\n",
       "      <td>NaN</td>\n",
       "      <td>NaN</td>\n",
       "      <td>NaN</td>\n",
       "      <td>NaN</td>\n",
       "      <td>NaN</td>\n",
       "      <td>NaN</td>\n",
       "      <td>NaN</td>\n",
       "      <td>NaN</td>\n",
       "      <td>NaN</td>\n",
       "      <td>NaN</td>\n",
       "      <td>NaN</td>\n",
       "      <td>Novavax</td>\n",
       "    </tr>\n",
       "    <tr>\n",
       "      <th>7</th>\n",
       "      <td>NaN</td>\n",
       "      <td>NaN</td>\n",
       "      <td>NaN</td>\n",
       "      <td>NaN</td>\n",
       "      <td>NaN</td>\n",
       "      <td>NaN</td>\n",
       "      <td>NaN</td>\n",
       "      <td>NaN</td>\n",
       "      <td>NaN</td>\n",
       "      <td>NaN</td>\n",
       "      <td>NaN</td>\n",
       "      <td>NaN</td>\n",
       "      <td>NaN</td>\n",
       "      <td>NaN</td>\n",
       "      <td>NaN</td>\n",
       "      <td>Sputnik Light</td>\n",
       "    </tr>\n",
       "    <tr>\n",
       "      <th>8</th>\n",
       "      <td>NaN</td>\n",
       "      <td>NaN</td>\n",
       "      <td>NaN</td>\n",
       "      <td>NaN</td>\n",
       "      <td>NaN</td>\n",
       "      <td>NaN</td>\n",
       "      <td>NaN</td>\n",
       "      <td>NaN</td>\n",
       "      <td>NaN</td>\n",
       "      <td>NaN</td>\n",
       "      <td>NaN</td>\n",
       "      <td>NaN</td>\n",
       "      <td>NaN</td>\n",
       "      <td>NaN</td>\n",
       "      <td>NaN</td>\n",
       "      <td>Sputnik V</td>\n",
       "    </tr>\n",
       "    <tr>\n",
       "      <th>9</th>\n",
       "      <td>NaN</td>\n",
       "      <td>NaN</td>\n",
       "      <td>NaN</td>\n",
       "      <td>NaN</td>\n",
       "      <td>NaN</td>\n",
       "      <td>NaN</td>\n",
       "      <td>NaN</td>\n",
       "      <td>NaN</td>\n",
       "      <td>NaN</td>\n",
       "      <td>NaN</td>\n",
       "      <td>NaN</td>\n",
       "      <td>NaN</td>\n",
       "      <td>NaN</td>\n",
       "      <td>NaN</td>\n",
       "      <td>NaN</td>\n",
       "      <td>CanSino</td>\n",
       "    </tr>\n",
       "    <tr>\n",
       "      <th>10</th>\n",
       "      <td>NaN</td>\n",
       "      <td>NaN</td>\n",
       "      <td>NaN</td>\n",
       "      <td>NaN</td>\n",
       "      <td>NaN</td>\n",
       "      <td>NaN</td>\n",
       "      <td>NaN</td>\n",
       "      <td>NaN</td>\n",
       "      <td>NaN</td>\n",
       "      <td>NaN</td>\n",
       "      <td>NaN</td>\n",
       "      <td>NaN</td>\n",
       "      <td>NaN</td>\n",
       "      <td>NaN</td>\n",
       "      <td>NaN</td>\n",
       "      <td>Abdala</td>\n",
       "    </tr>\n",
       "  </tbody>\n",
       "</table>\n",
       "<p>4044 rows × 16 columns</p>\n",
       "</div>"
      ],
      "text/plain": [
       "      country iso_code        date  total_vaccinations  people_vaccinated  \\\n",
       "11395  Brunei      BRN  2021-04-02                 0.0                0.0   \n",
       "11396  Brunei      BRN  2021-04-03               754.0              754.0   \n",
       "11397  Brunei      BRN  2021-04-04               822.0              822.0   \n",
       "11398  Brunei      BRN  2021-04-05              1214.0             1214.0   \n",
       "11399  Brunei      BRN  2021-04-06              2560.0             2560.0   \n",
       "...       ...      ...         ...                 ...                ...   \n",
       "6         NaN      NaN         NaN                 NaN                NaN   \n",
       "7         NaN      NaN         NaN                 NaN                NaN   \n",
       "8         NaN      NaN         NaN                 NaN                NaN   \n",
       "9         NaN      NaN         NaN                 NaN                NaN   \n",
       "10        NaN      NaN         NaN                 NaN                NaN   \n",
       "\n",
       "       people_fully_vaccinated  daily_vaccinations_raw  daily_vaccinations  \\\n",
       "11395                      NaN                     NaN                 NaN   \n",
       "11396                      NaN                   754.0               754.0   \n",
       "11397                      NaN                    68.0               411.0   \n",
       "11398                      NaN                   392.0               405.0   \n",
       "11399                      NaN                  1346.0               640.0   \n",
       "...                        ...                     ...                 ...   \n",
       "6                          NaN                     NaN                 NaN   \n",
       "7                          NaN                     NaN                 NaN   \n",
       "8                          NaN                     NaN                 NaN   \n",
       "9                          NaN                     NaN                 NaN   \n",
       "10                         NaN                     NaN                 NaN   \n",
       "\n",
       "       total_vaccinations_per_hundred  people_vaccinated_per_hundred  \\\n",
       "11395                            0.00                           0.00   \n",
       "11396                            0.17                           0.17   \n",
       "11397                            0.19                           0.19   \n",
       "11398                            0.27                           0.27   \n",
       "11399                            0.58                           0.58   \n",
       "...                               ...                            ...   \n",
       "6                                 NaN                            NaN   \n",
       "7                                 NaN                            NaN   \n",
       "8                                 NaN                            NaN   \n",
       "9                                 NaN                            NaN   \n",
       "10                                NaN                            NaN   \n",
       "\n",
       "       people_fully_vaccinated_per_hundred  daily_vaccinations_per_million  \\\n",
       "11395                                  NaN                             NaN   \n",
       "11396                                  NaN                          1708.0   \n",
       "11397                                  NaN                           931.0   \n",
       "11398                                  NaN                           917.0   \n",
       "11399                                  NaN                          1449.0   \n",
       "...                                    ...                             ...   \n",
       "6                                      NaN                             NaN   \n",
       "7                                      NaN                             NaN   \n",
       "8                                      NaN                             NaN   \n",
       "9                                      NaN                             NaN   \n",
       "10                                     NaN                             NaN   \n",
       "\n",
       "                                                vaccines  \\\n",
       "11395  Johnson&Johnson, Moderna, Oxford/AstraZeneca, ...   \n",
       "11396  Johnson&Johnson, Moderna, Oxford/AstraZeneca, ...   \n",
       "11397  Johnson&Johnson, Moderna, Oxford/AstraZeneca, ...   \n",
       "11398  Johnson&Johnson, Moderna, Oxford/AstraZeneca, ...   \n",
       "11399  Johnson&Johnson, Moderna, Oxford/AstraZeneca, ...   \n",
       "...                                                  ...   \n",
       "6                                                    NaN   \n",
       "7                                                    NaN   \n",
       "8                                                    NaN   \n",
       "9                                                    NaN   \n",
       "10                                                   NaN   \n",
       "\n",
       "                     source_name            source_website  vaccine_names  \n",
       "11395  World Health Organization  https://covid19.who.int/           None  \n",
       "11396  World Health Organization  https://covid19.who.int/           None  \n",
       "11397  World Health Organization  https://covid19.who.int/           None  \n",
       "11398  World Health Organization  https://covid19.who.int/           None  \n",
       "11399  World Health Organization  https://covid19.who.int/           None  \n",
       "...                          ...                       ...            ...  \n",
       "6                            NaN                       NaN        Novavax  \n",
       "7                            NaN                       NaN  Sputnik Light  \n",
       "8                            NaN                       NaN      Sputnik V  \n",
       "9                            NaN                       NaN        CanSino  \n",
       "10                           NaN                       NaN         Abdala  \n",
       "\n",
       "[4044 rows x 16 columns]"
      ]
     },
     "execution_count": 19,
     "metadata": {},
     "output_type": "execute_result"
    }
   ],
   "source": [
    "asean_countries"
   ]
  },
  {
   "cell_type": "code",
   "execution_count": 33,
   "metadata": {},
   "outputs": [
    {
     "data": {
      "text/plain": [
       "10"
      ]
     },
     "execution_count": 33,
     "metadata": {},
     "output_type": "execute_result"
    }
   ],
   "source": [
    "# memastikan semua negara Asean sudah masuk dalam dataset\n",
    "asean_countries.country.nunique()"
   ]
  },
  {
   "cell_type": "code",
   "execution_count": 35,
   "metadata": {},
   "outputs": [
    {
     "data": {
      "text/plain": [
       "{'Abdala',\n",
       " 'CanSino',\n",
       " 'Johnson&Johnson',\n",
       " 'Moderna',\n",
       " 'Novavax',\n",
       " 'Oxford/AstraZeneca',\n",
       " 'Pfizer/BioNTech',\n",
       " 'Sinopharm/Beijing',\n",
       " 'Sinovac',\n",
       " 'Sputnik Light',\n",
       " 'Sputnik V'}"
      ]
     },
     "execution_count": 35,
     "metadata": {},
     "output_type": "execute_result"
    }
   ],
   "source": [
    "# mengeluarkan jenis-jenis vaksin dan memasukkannya ke dalam set\n",
    "asean_countries.reset_index(inplace=True, drop=True)\n",
    "vaccines = set()\n",
    "for n in range(len(asean_countries)):\n",
    "    vaccines.update(asean_countries['vaccines'][n].split(', '))\n",
    "    \n",
    "vaccines"
   ]
  },
  {
   "cell_type": "code",
   "execution_count": 14,
   "metadata": {},
   "outputs": [],
   "source": [
    "# menghilangkan data duplikat\n",
    "vaksin_negara = asean_countries[['country', 'vaccines']].drop_duplicates()\n",
    "\n",
    "mapping_negara = {}\n",
    "\n",
    "for index, row in vaksin_negara.iterrows():\n",
    "    vaccines = row['vaccines'].split(', ')\n",
    "    for vaccine in vaccines:\n",
    "        if vaccine in mapping_negara:\n",
    "            mapping_negara[vaccine].append(row['country'])\n",
    "        else:\n",
    "            mapping_negara[vaccine] = []\n",
    "            mapping_negara[vaccine] = [row['country']]"
   ]
  },
  {
   "cell_type": "code",
   "execution_count": 42,
   "metadata": {},
   "outputs": [
    {
     "name": "stdout",
     "output_type": "stream",
     "text": [
      "Johnson&Johnson : ['Brunei', 'Cambodia', 'Indonesia', 'Laos', 'Philippines']\n",
      "Moderna : ['Brunei', 'Indonesia', 'Philippines', 'Singapore', 'Thailand', 'Vietnam']\n",
      "Oxford/AstraZeneca : ['Brunei', 'Cambodia', 'Indonesia', 'Laos', 'Malaysia', 'Myanmar', 'Philippines', 'Thailand', 'Vietnam']\n",
      "Pfizer/BioNTech : ['Brunei', 'Indonesia', 'Laos', 'Malaysia', 'Philippines', 'Singapore', 'Thailand', 'Vietnam']\n",
      "Sinopharm/Beijing : ['Brunei', 'Cambodia', 'Indonesia', 'Laos', 'Malaysia', 'Myanmar', 'Philippines', 'Singapore', 'Thailand', 'Vietnam']\n",
      "Sinovac : ['Cambodia', 'Indonesia', 'Laos', 'Malaysia', 'Philippines', 'Singapore', 'Thailand']\n",
      "Novavax : ['Indonesia']\n",
      "Sputnik Light : ['Laos', 'Philippines']\n",
      "Sputnik V : ['Laos', 'Philippines', 'Vietnam']\n",
      "CanSino : ['Malaysia']\n",
      "Abdala : ['Vietnam']\n"
     ]
    }
   ],
   "source": [
    "for i in range(len(mapping_negara)):\n",
    "    print(list(mapping_negara.keys())[i],':',mapping_negara[list(mapping_negara.keys())[i]])"
   ]
  },
  {
   "cell_type": "code",
   "execution_count": 15,
   "metadata": {},
   "outputs": [
    {
     "name": "stderr",
     "output_type": "stream",
     "text": [
      "C:\\Users\\YOGA\\AppData\\Local\\Temp\\ipykernel_10644\\2397939341.py:1: SettingWithCopyWarning: \n",
      "A value is trying to be set on a copy of a slice from a DataFrame.\n",
      "Try using .loc[row_indexer,col_indexer] = value instead\n",
      "\n",
      "See the caveats in the documentation: https://pandas.pydata.org/pandas-docs/stable/user_guide/indexing.html#returning-a-view-versus-a-copy\n",
      "  asean_countries['vaccine_names'] = None\n",
      "C:\\Users\\YOGA\\AppData\\Local\\Temp\\ipykernel_10644\\2397939341.py:4: SettingWithCopyWarning: \n",
      "A value is trying to be set on a copy of a slice from a DataFrame\n",
      "\n",
      "See the caveats in the documentation: https://pandas.pydata.org/pandas-docs/stable/user_guide/indexing.html#returning-a-view-versus-a-copy\n",
      "  asean_countries.loc[i, 'vaccine_names'] = key\n"
     ]
    }
   ],
   "source": [
    "asean_countries['vaccine_names'] = None\n",
    "\n",
    "for i, key in enumerate(mapping_negara.keys()):\n",
    "    asean_countries.loc[i, 'vaccine_names'] = key\n"
   ]
  },
  {
   "cell_type": "code",
   "execution_count": 17,
   "metadata": {},
   "outputs": [
    {
     "data": {
      "text/plain": [
       "array([None, 'Johnson&Johnson', 'Moderna', 'Oxford/AstraZeneca',\n",
       "       'Pfizer/BioNTech', 'Sinopharm/Beijing', 'Sinovac', 'Novavax',\n",
       "       'Sputnik Light', 'Sputnik V', 'CanSino', 'Abdala'], dtype=object)"
      ]
     },
     "execution_count": 17,
     "metadata": {},
     "output_type": "execute_result"
    }
   ],
   "source": [
    "asean_countries['vaccine_names'].unique()"
   ]
  },
  {
   "cell_type": "code",
   "execution_count": null,
   "metadata": {},
   "outputs": [],
   "source": [
    "vaksin_covid"
   ]
  },
  {
   "cell_type": "code",
   "execution_count": 24,
   "metadata": {},
   "outputs": [],
   "source": [
    "vaccine_names = list(mapping_negara.keys())\n",
    "\n",
    "# memecah list country\n",
    "all_countries = [country for value in mapping_negara.values() for country in value]\n",
    "\n",
    "\n",
    "vaccine_country = pd.DataFrame({'Vaccine Name': vaccine_names, 'Country': all_countries[:len(vaccine_names)]})\n",
    "vaccine_country.to_csv('vaccine_country.csv', index=False)"
   ]
  },
  {
   "cell_type": "code",
   "execution_count": null,
   "metadata": {},
   "outputs": [],
   "source": [
    "vaccine_names = list(mapping_negara.keys())\n",
    "vaccine_counts = [len(v) for v in mapping_negara.values()]\n",
    "countries = list(mapping_negara.values())\n",
    "\n",
    "vaksin = pd.DataFrame({'Vaccine Name': vaccine_names, 'Number of Countries': vaccine_counts, 'Countries': countries})"
   ]
  },
  {
   "cell_type": "code",
   "execution_count": 20,
   "metadata": {},
   "outputs": [
    {
     "name": "stderr",
     "output_type": "stream",
     "text": [
      "c:\\Users\\YOGA\\anaconda3\\lib\\site-packages\\seaborn\\_oldcore.py:1765: FutureWarning: unique with argument that is not not a Series, Index, ExtensionArray, or np.ndarray is deprecated and will raise in a future version.\n",
      "  order = pd.unique(vector)\n"
     ]
    },
    {
     "data": {
      "image/png": "[encoded data removed]",
      "text/plain": [
       "<Figure size 640x480 with 1 Axes>"
      ]
     },
     "metadata": {},
     "output_type": "display_data"
    }
   ],
   "source": [
    "# ambil vaccine name\n",
    "vaccine_names = list(mapping_negara.keys())\n",
    "\n",
    "# Menghitung total negara untuk setiap vaksinnya\n",
    "vaccine_counts = [len(v) for v in mapping_negara.values()]\n",
    "\n",
    "# membuat bar chart\n",
    "sns.barplot(x=vaccine_names, y=vaccine_counts)\n",
    "plt.xlabel('Vaccine')\n",
    "plt.ylabel('Number of Countries')\n",
    "plt.title('Distribution of Vaccines Across Countries')\n",
    "plt.xticks(rotation=45)\n",
    "plt.tight_layout()\n",
    "plt.show()"
   ]
  },
  {
   "cell_type": "markdown",
   "metadata": {},
   "source": [
    "**dari visual di atas, dapat diketahui bahwa vaksin Pfizer/BioNTech adalah vaksin yang paling banyak digunakan di negara-negara Asean**\n",
    "<br>\n",
    "**dan vaksin Novavax adalah vaksin yang paling <emp>sedikit</emp> digunakan di negara-negara Asean.**"
   ]
  },
  {
   "cell_type": "code",
   "execution_count": 48,
   "metadata": {},
   "outputs": [
    {
     "data": {
      "image/png": "[encoded data removed]",
      "text/plain": [
       "<Figure size 640x480 with 1 Axes>"
      ]
     },
     "metadata": {},
     "output_type": "display_data"
    }
   ],
   "source": [
    "data = (asean_countries.groupby('country')['daily_vaccinations'].sum().reset_index().sort_values(by='daily_vaccinations', ascending=False))\n",
    "\n",
    "sns.barplot(x='country', y='daily_vaccinations', data=data)\n",
    "plt.xlabel('Country')\n",
    "plt.ylabel('Total Daily Vaccinations')\n",
    "plt.title('Total Daily Vaccinations by Country (Descending)')\n",
    "plt.xticks(rotation=45) \n",
    "plt.tight_layout()\n",
    "plt.show()"
   ]
  },
  {
   "cell_type": "markdown",
   "metadata": {},
   "source": [
    "**Melaui visual di atas, Indonesia merupakan negara Asean yang memberikan vaksinasi ke warganya paling banyak dan Brunei merupakan negara yang memberikan vaksinasi ke warganya paling sedikit dibandingkan dengan negara-negara Asean lainnya**"
   ]
  },
  {
   "cell_type": "code",
   "execution_count": 55,
   "metadata": {},
   "outputs": [
    {
     "data": {
      "image/png": "[encoded data removed]",
      "text/plain": [
       "<Figure size 640x480 with 1 Axes>"
      ]
     },
     "metadata": {},
     "output_type": "display_data"
    }
   ],
   "source": [
    "vaksinasi_per_100 = asean_countries.sort_values(by='people_fully_vaccinated_per_hundred', ascending=False)\n",
    "\n",
    "\n",
    "sns.barplot(x='people_fully_vaccinated_per_hundred', y='country', orient='h', data=vaksinasi_per_100)\n",
    "\n",
    "\n",
    "plt.ylabel('Country')\n",
    "plt.xlabel('Fully Vaccinated per 100 People')\n",
    "plt.title('Vaccination Rate (Per 100 People) by Country')\n",
    "plt.tight_layout()\n",
    "plt.show()"
   ]
  },
  {
   "cell_type": "markdown",
   "metadata": {},
   "source": [
    "**Melalui visualisasi di atas, dapat diketahui, meskipun Indonesia memiliki jumlah warga yang paling banyak mendapat vaksin, namun jika dihitung banyaknya orang yang divaksinasi per 100 orang, Singapura memiliki jumlah yang lebih tinggi. Hal ini berarti jumlah persentase warga yang sudah di vaksin di Singapura lebih tinggi daripada Indonesia.**"
   ]
  },
  {
   "cell_type": "code",
   "execution_count": 75,
   "metadata": {},
   "outputs": [
    {
     "data": {
      "image/png": "[encoded data removed]",
      "text/plain": [
       "<Figure size 1500x1000 with 1 Axes>"
      ]
     },
     "metadata": {},
     "output_type": "display_data"
    }
   ],
   "source": [
    "daily_vaccinations = asean_countries.groupby('date')['daily_vaccinations'].sum().reset_index()\n",
    "figure = plt.figure(figsize=(15,10))\n",
    "sns.barplot(y=daily_vaccinations.daily_vaccinations, x=daily_vaccinations.date, color=\"blue\")\n",
    "plt.xticks()\n",
    "plt.xlim(xmin=0.8)\n",
    "plt.xlabel('Days')\n",
    "plt.ylabel('Daily Vaccinations')\n",
    "plt.title('Count of Vaccinations in every day')\n",
    "plt.show()"
   ]
  },
  {
   "cell_type": "markdown",
   "metadata": {},
   "source": [
    "**Dari visualisasi di atas, dapat dilihat semakin ke sini, semakin banyak warga negara-negara Asean yang mendapatkan vaksin setiap harinya**"
   ]
  },
  {
   "cell_type": "markdown",
   "metadata": {},
   "source": [
    "## Statistika Deskriptif"
   ]
  },
  {
   "cell_type": "code",
   "execution_count": 27,
   "metadata": {},
   "outputs": [
    {
     "name": "stdout",
     "output_type": "stream",
     "text": [
      "Rata-rata jumlah orang yang sudah divaksin setiap harinya: 255300.59.\n",
      "Rata-rata jumlah orang Indonesia yang sudah divaksin setiap harinya: 846289.29.\n"
     ]
    }
   ],
   "source": [
    "# Melihat rata-rata jumlah orang yang sudah divaksin setiap harinya dengan penghitungan central tendency\n",
    "avg_indonesia = asean_countries[asean_countries['country'] == 'Indonesia']['daily_vaccinations'].mean()\n",
    "avg = asean_countries['daily_vaccinations'].mean()\n",
    "\n",
    "print(f\"Rata-rata jumlah orang yang sudah divaksin setiap harinya: {avg:.2f}.\")\n",
    "print(f\"Rata-rata jumlah orang Indonesia yang sudah divaksin setiap harinya: {avg_indonesia:.2f}.\")"
   ]
  },
  {
   "cell_type": "markdown",
   "metadata": {},
   "source": [
    "**Rata-rata orang Indonesia yang sudah divaksin lebih tinggi daripada rata-rata jumlah orang yang divaksin tiap harinya di negara-negara Asean, hal ini mungkin terjadi karena jumlah penduduk Indonesia yang banyak**"
   ]
  },
  {
   "cell_type": "markdown",
   "metadata": {},
   "source": [
    "## Statistika Inferensial"
   ]
  },
  {
   "cell_type": "markdown",
   "metadata": {},
   "source": [
    "mana yang memiliki rate vaksinasi lebih tinggi Indonesia atau Singapura\n",
    "\n",
    "H0: total vaksinasi per 100 Indonesia == total vaksinasi per 100 Singapura\n",
    "H1: total vaksinasi per 100 Indonesia != total vaksinasi per 100 Singapura"
   ]
  },
  {
   "cell_type": "code",
   "execution_count": 83,
   "metadata": {},
   "outputs": [],
   "source": [
    "# membagi datasets menjadi 2, Indonesia dan Singapura\n",
    "IDN = asean_countries[asean_countries['country']=='Indonesia'][['date','total_vaccinations_per_hundred']].groupby(['date']).sum()\n",
    "SIN = asean_countries[asean_countries['country']=='Singapore'][['date','total_vaccinations_per_hundred']].groupby(['date']).sum()"
   ]
  },
  {
   "cell_type": "code",
   "execution_count": 98,
   "metadata": {},
   "outputs": [
    {
     "name": "stdout",
     "output_type": "stream",
     "text": [
      "T-Statistic: -20.168045688132572\n",
      "P-value: 3.799364352456635e-75\n"
     ]
    }
   ],
   "source": [
    "t_stat, p_val = stats.ttest_ind(IDN['total_vaccinations_per_hundred'], SIN['total_vaccinations_per_hundred'])\n",
    "print('T-Statistic:',t_stat)\n",
    "print('P-value:',p_val/2)"
   ]
  },
  {
   "cell_type": "markdown",
   "metadata": {},
   "source": [
    "**Dari hasil penghitungan di atas, kita bisa menolak hipotesis null yang berarti ada perbedaan antara jumlah total vaksinasi per 100 di Indoneisa dan Singapura. Ada perbedaan yang sangat signifikan dari kedua dataset di atas, walaupun T-value yang negatif, itu tidak memberitahu Singapura atau Indonesia yang memiliki nilai lebih tinggi**"
   ]
  },
  {
   "cell_type": "markdown",
   "metadata": {},
   "source": [
    "total vaksin Astra Zaneca vs Pfizer di Indonesia"
   ]
  },
  {
   "cell_type": "code",
   "execution_count": 109,
   "metadata": {},
   "outputs": [
    {
     "name": "stdout",
     "output_type": "stream",
     "text": [
      "Z-score: -21.6295\n",
      "p-value: -1.0000\n",
      "Ada perbedaan jumlah penggunaan vaksin Astra Zeneca di Indonesia dan Brunei.\n"
     ]
    }
   ],
   "source": [
    "# Extract data for Astra Zeneca vaccinations (assuming 'vaccines' contains 'AstraZeneca')\n",
    "brunei_astrazeneca = asean_countries[asean_countries['vaccines'].str.contains('AstraZeneca') & (asean_countries['country'] == 'Brunei')]\n",
    "indonesia_astrazeneca = asean_countries[asean_countries['vaccines'].str.contains('AstraZeneca') & (asean_countries['country'] == 'Indonesia')]\n",
    "\n",
    "# Calculate means and standard deviations for Astra Zeneca usage\n",
    "brunei_mean_astrazeneca = brunei_astrazeneca['total_vaccinations'].mean()\n",
    "brunei_sd_astrazeneca = brunei_astrazeneca['total_vaccinations'].std()\n",
    "\n",
    "indonesia_mean_astrazeneca = indonesia_astrazeneca['total_vaccinations'].mean()\n",
    "indonesia_sd_astrazeneca = indonesia_astrazeneca['total_vaccinations'].std()\n",
    "\n",
    "# Calculate Z-score\n",
    "z_score = (brunei_mean_astrazeneca - indonesia_mean_astrazeneca) / np.sqrt(brunei_sd_astrazeneca**2 / len(brunei_astrazeneca) + indonesia_sd_astrazeneca**2 / len(indonesia_astrazeneca))\n",
    "\n",
    "# Set significance level (alpha)\n",
    "alpha = 0.05\n",
    "\n",
    "# Calculate two-tailed p-value using scipy.stats.zscore\n",
    "p_value = 1 - stats.norm.cdf(abs(z_score)) * 2\n",
    "\n",
    "# Print results\n",
    "print(f\"Z-score: {z_score:.4f}\")\n",
    "print(f\"p-value: {p_value:.4f}\")\n",
    "\n",
    "# Intepretasi hasil berdasarkan p-value\n",
    "if p_value < alpha:\n",
    "    print(\"Ada perbedaan jumlah penggunaan vaksin Astra Zeneca di Indonesia dan Brunei.\")\n",
    "else:\n",
    "    print(\"Fail to reject null hypothesis. Not enough evidence to conclude a significant difference.\")\n"
   ]
  },
  {
   "cell_type": "code",
   "execution_count": 110,
   "metadata": {},
   "outputs": [
    {
     "name": "stdout",
     "output_type": "stream",
     "text": [
      "Chi-Square Statistic: 78.30\n",
      "p-value: 0.9382\n",
      "Degrees of Freedom: 99\n",
      "Fail to reject null hypothesis. Not enough evidence to conclude an association.\n"
     ]
    }
   ],
   "source": [
    "from scipy.stats import chi2_contingency\n",
    "\n",
    "df = asean_countries\n",
    "\n",
    "\n",
    "# Grouping date menjadi month (e.g., monthly)\n",
    "df['month'] = pd.to_datetime(df['date']).dt.month_name()\n",
    "\n",
    "# membuat contigency table antara vaccines vs month\n",
    "contingency_table = pd.crosstab(df['vaccines'], df['month'])\n",
    "\n",
    "# Chi-square test\n",
    "chi2_statistic, p_value, degrees_of_freedom, expected_counts = chi2_contingency(contingency_table.values)\n",
    "\n",
    "# set significance level\n",
    "alpha = 0.05\n",
    "\n",
    "print(f\"Chi-Square Statistic: {chi2_statistic:.2f}\")\n",
    "print(f\"p-value: {p_value:.4f}\")\n",
    "print(f\"Degrees of Freedom: {degrees_of_freedom}\")\n",
    "\n",
    "# Interpret results\n",
    "if p_value < alpha:\n",
    "    print(\"Reject null hypothesis. Tidak ada asosiasi yang signifikan antara vaksin yang diberikan dan bulan pemberiannya.\")\n",
    "else:\n",
    "    print(\"Fail to reject null hypothesis. Not enough evidence to conclude an association.\")\n"
   ]
  },
  {
   "cell_type": "markdown",
   "metadata": {},
   "source": [
    "**p-value yang sebesar itu mengindikasikan tidak adanya bukti yang cukup untuk menyimpulkan adanya asosiasi antara bulan pemberian vaksin dan tipe vaksin yang diberikan.**"
   ]
  },
  {
   "cell_type": "markdown",
   "metadata": {},
   "source": [
    "### Kesimpulan\n",
    "\n",
    "1. Pfizer merupakan vaksin yang paling banyak digunakan di negara-negara Asean\n",
    "2. Indonesia adalah negara dengan jumlah total pemberian vaksin terbanyak per harinya, hal ini mungkin disebabkan oleh populasi penduduk Indonesia yang besar\n",
    "3. Singapura adalah negara Asean yang memiliki vaccination tertinggi\n",
    "4. Total pemberian vaksin di negara-negara Asean mengalami trend naik lalu penurunan di akhir tahun 2022\n",
    "5. Ada rata-rata 250,000-an orang yang divaksin setiap harinya di negara-negara Asean\n",
    "6. Tipe vaksin yang diberikan sepanjang tahun 2021-2022 di negara-negara Asean tidak bisa diasosiasikan dengan waktu pemberian vaksin"
   ]
  }
 ],
 "metadata": {
  "kernelspec": {
   "display_name": "base",
   "language": "python",
   "name": "python3"
  },
  "language_info": {
   "codemirror_mode": {
    "name": "ipython",
    "version": 3
   },
   "file_extension": ".py",
   "mimetype": "text/x-python",
   "name": "python",
   "nbconvert_exporter": "python",
   "pygments_lexer": "ipython3",
   "version": "3.10.11"
  }
 },
 "nbformat": 4,
 "nbformat_minor": 2
}
